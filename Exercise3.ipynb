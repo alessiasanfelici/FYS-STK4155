{
 "cells": [
  {
   "cell_type": "markdown",
   "metadata": {},
   "source": [
    "In this exercise we want you to to compute the MSE for the training\n",
    "data and the test data as function of the complexity of a polynomial,\n",
    "that is the degree of a given polynomial.\n",
    "\n",
    "The aim is to reproduce Figure 2.11 of [Hastie et al](https://github.com/CompPhysics/MLErasmus/blob/master/doc/Textbooks/elementsstat.pdf).\n",
    "\n",
    "Our data is defined by $x\\in [-3,3]$ with a total of for example $n=100$ data points. You should try to vary the number of data points $n$ in your analysis."
   ]
  },
  {
   "cell_type": "code",
   "execution_count": 15,
   "metadata": {},
   "outputs": [],
   "source": [
    "import matplotlib.pyplot as plt\n",
    "import numpy as np\n",
    "import random\n",
    "from sklearn.model_selection import train_test_split\n",
    "from sklearn.linear_model import LinearRegression\n",
    "from sklearn.preprocessing import PolynomialFeatures, StandardScaler\n",
    "from sklearn.pipeline import make_pipeline\n",
    "from sklearn.metrics import mean_squared_error, r2_score"
   ]
  },
  {
   "cell_type": "code",
   "execution_count": 2,
   "metadata": {},
   "outputs": [],
   "source": [
    "np.random.seed()\n",
    "n = 100\n",
    "# Make data set\n",
    "x = np.linspace(-3, 3, n).reshape(-1, 1)\n",
    "y = np.exp(-x**2) + 1.5 * np.exp(-(x-2)**2)+ np.random.normal(0, 0.1, x.shape)"
   ]
  },
  {
   "cell_type": "markdown",
   "metadata": {},
   "source": [
    "**a)**\n",
    "Write a first code which sets up a design matrix $X$ defined by a fifth-order polynomial and split your data set in training and test data."
   ]
  },
  {
   "cell_type": "code",
   "execution_count": 3,
   "metadata": {},
   "outputs": [
    {
     "data": {
      "text/plain": [
       "array([[ 1.00000000e+00, -3.00000000e+00,  9.00000000e+00,\n",
       "        -2.70000000e+01,  8.10000000e+01, -2.43000000e+02],\n",
       "       [ 1.00000000e+00, -2.93939394e+00,  8.64003673e+00,\n",
       "        -2.53964716e+01,  7.46502347e+01, -2.19426447e+02],\n",
       "       [ 1.00000000e+00, -2.87878788e+00,  8.28741965e+00,\n",
       "        -2.38577232e+01,  6.86813245e+01, -1.97718964e+02],\n",
       "       [ 1.00000000e+00, -2.81818182e+00,  7.94214876e+00,\n",
       "        -2.23824192e+01,  6.30777269e+01, -1.77764503e+02],\n",
       "       [ 1.00000000e+00, -2.75757576e+00,  7.60422406e+00,\n",
       "        -2.09692239e+01,  5.78242235e+01, -1.59454677e+02],\n",
       "       [ 1.00000000e+00, -2.69696970e+00,  7.27364555e+00,\n",
       "        -1.96168016e+01,  5.29059195e+01, -1.42685662e+02],\n",
       "       [ 1.00000000e+00, -2.63636364e+00,  6.95041322e+00,\n",
       "        -1.83238167e+01,  4.83082440e+01, -1.27358098e+02],\n",
       "       [ 1.00000000e+00, -2.57575758e+00,  6.63452709e+00,\n",
       "        -1.70889334e+01,  4.40169497e+01, -1.13376992e+02],\n",
       "       [ 1.00000000e+00, -2.51515152e+00,  6.32598714e+00,\n",
       "        -1.59108162e+01,  4.00181133e+01, -1.00651618e+02],\n",
       "       [ 1.00000000e+00, -2.45454545e+00,  6.02479339e+00,\n",
       "        -1.47881292e+01,  3.62981354e+01, -8.90954232e+01],\n",
       "       [ 1.00000000e+00, -2.39393939e+00,  5.73094582e+00,\n",
       "        -1.37195370e+01,  3.28437400e+01, -7.86259231e+01],\n",
       "       [ 1.00000000e+00, -2.33333333e+00,  5.44444444e+00,\n",
       "        -1.27037037e+01,  2.96419753e+01, -6.91646091e+01],\n",
       "       [ 1.00000000e+00, -2.27272727e+00,  5.16528926e+00,\n",
       "        -1.17392938e+01,  2.66802131e+01, -6.06368480e+01],\n",
       "       [ 1.00000000e+00, -2.21212121e+00,  4.89348026e+00,\n",
       "        -1.08249715e+01,  2.39461490e+01, -5.29717842e+01],\n",
       "       [ 1.00000000e+00, -2.15151515e+00,  4.62901745e+00,\n",
       "        -9.95940117e+00,  2.14278025e+01, -4.61022418e+01],\n",
       "       [ 1.00000000e+00, -2.09090909e+00,  4.37190083e+00,\n",
       "        -9.14124718e+00,  1.91135168e+01, -3.99646261e+01],\n",
       "       [ 1.00000000e+00, -2.03030303e+00,  4.12213039e+00,\n",
       "        -8.36917383e+00,  1.69919590e+01, -3.44988258e+01],\n",
       "       [ 1.00000000e+00, -1.96969697e+00,  3.87970615e+00,\n",
       "        -7.64184545e+00,  1.50521198e+01, -2.96481148e+01],\n",
       "       [ 1.00000000e+00, -1.90909091e+00,  3.64462810e+00,\n",
       "        -6.95792637e+00,  1.32833140e+01, -2.53590540e+01],\n",
       "       [ 1.00000000e+00, -1.84848485e+00,  3.41689624e+00,\n",
       "        -6.31608092e+00,  1.16751799e+01, -2.15813931e+01],\n",
       "       [ 1.00000000e+00, -1.78787879e+00,  3.19651056e+00,\n",
       "        -5.71497343e+00,  1.02176798e+01, -1.82679729e+01],\n",
       "       [ 1.00000000e+00, -1.72727273e+00,  2.98347107e+00,\n",
       "        -5.15326822e+00,  8.90109965e+00, -1.53746267e+01],\n",
       "       [ 1.00000000e+00, -1.66666667e+00,  2.77777778e+00,\n",
       "        -4.62962963e+00,  7.71604938e+00, -1.28600823e+01],\n",
       "       [ 1.00000000e+00, -1.60606061e+00,  2.57943067e+00,\n",
       "        -4.14272199e+00,  6.65346258e+00, -1.06858641e+01],\n",
       "       [ 1.00000000e+00, -1.54545455e+00,  2.38842975e+00,\n",
       "        -3.69120962e+00,  5.70459668e+00, -8.81619487e+00],\n",
       "       [ 1.00000000e+00, -1.48484848e+00,  2.20477502e+00,\n",
       "        -3.27375685e+00,  4.86103290e+00, -7.21789734e+00],\n",
       "       [ 1.00000000e+00, -1.42424242e+00,  2.02846648e+00,\n",
       "        -2.88902802e+00,  4.11467627e+00, -5.86029651e+00],\n",
       "       [ 1.00000000e+00, -1.36363636e+00,  1.85950413e+00,\n",
       "        -2.53568745e+00,  3.45775562e+00, -4.71512130e+00],\n",
       "       [ 1.00000000e+00, -1.30303030e+00,  1.69788797e+00,\n",
       "        -2.21239948e+00,  2.88282356e+00, -3.75640646e+00],\n",
       "       [ 1.00000000e+00, -1.24242424e+00,  1.54361800e+00,\n",
       "        -1.91782842e+00,  2.38275652e+00, -2.96039447e+00],\n",
       "       [ 1.00000000e+00, -1.18181818e+00,  1.39669421e+00,\n",
       "        -1.65063862e+00,  1.95075473e+00, -2.30543741e+00],\n",
       "       [ 1.00000000e+00, -1.12121212e+00,  1.25711662e+00,\n",
       "        -1.40949439e+00,  1.58034220e+00, -1.77189883e+00],\n",
       "       [ 1.00000000e+00, -1.06060606e+00,  1.12488522e+00,\n",
       "        -1.19306008e+00,  1.26536675e+00, -1.34205564e+00],\n",
       "       [ 1.00000000e+00, -1.00000000e+00,  1.00000000e+00,\n",
       "        -1.00000000e+00,  1.00000000e+00, -1.00000000e+00],\n",
       "       [ 1.00000000e+00, -9.39393939e-01,  8.82460973e-01,\n",
       "        -8.28978490e-01,  7.78737370e-01, -7.31541165e-01],\n",
       "       [ 1.00000000e+00, -8.78787879e-01,  7.72268136e-01,\n",
       "        -6.78659877e-01,  5.96398074e-01, -5.24107398e-01],\n",
       "       [ 1.00000000e+00, -8.18181818e-01,  6.69421488e-01,\n",
       "        -5.47708490e-01,  4.48125128e-01, -3.66647832e-01],\n",
       "       [ 1.00000000e+00, -7.57575758e-01,  5.73921028e-01,\n",
       "        -4.34788658e-01,  3.29385347e-01, -2.49534354e-01],\n",
       "       [ 1.00000000e+00, -6.96969697e-01,  4.85766758e-01,\n",
       "        -3.38564710e-01,  2.35969344e-01, -1.64463482e-01],\n",
       "       [ 1.00000000e+00, -6.36363636e-01,  4.04958678e-01,\n",
       "        -2.57700977e-01,  1.63991531e-01, -1.04358247e-01],\n",
       "       [ 1.00000000e+00, -5.75757576e-01,  3.31496786e-01,\n",
       "        -1.90861786e-01,  1.09890119e-01, -6.32700686e-02],\n",
       "       [ 1.00000000e+00, -5.15151515e-01,  2.65381084e-01,\n",
       "        -1.36711467e-01,  7.04271195e-02, -3.62806373e-02],\n",
       "       [ 1.00000000e+00, -4.54545455e-01,  2.06611570e-01,\n",
       "        -9.39143501e-02,  4.26883410e-02, -1.94037913e-02],\n",
       "       [ 1.00000000e+00, -3.93939394e-01,  1.55188246e-01,\n",
       "        -6.11347636e-02,  2.40833917e-02, -9.48739674e-03],\n",
       "       [ 1.00000000e+00, -3.33333333e-01,  1.11111111e-01,\n",
       "        -3.70370370e-02,  1.23456790e-02, -4.11522634e-03],\n",
       "       [ 1.00000000e+00, -2.72727273e-01,  7.43801653e-02,\n",
       "        -2.02854996e-02,  5.53240899e-03, -1.50883882e-03],\n",
       "       [ 1.00000000e+00, -2.12121212e-01,  4.49954086e-02,\n",
       "        -9.54448062e-03,  2.02458680e-03, -4.29457806e-04],\n",
       "       [ 1.00000000e+00, -1.51515152e-01,  2.29568411e-02,\n",
       "        -3.47830926e-03,  5.27016555e-04, -7.98509932e-05],\n",
       "       [ 1.00000000e+00, -9.09090909e-02,  8.26446281e-03,\n",
       "        -7.51314801e-04,  6.83013455e-05, -6.20921323e-06],\n",
       "       [ 1.00000000e+00, -3.03030303e-02,  9.18273646e-04,\n",
       "        -2.78264741e-05,  8.43226488e-07, -2.55523178e-08],\n",
       "       [ 1.00000000e+00,  3.03030303e-02,  9.18273646e-04,\n",
       "         2.78264741e-05,  8.43226488e-07,  2.55523178e-08],\n",
       "       [ 1.00000000e+00,  9.09090909e-02,  8.26446281e-03,\n",
       "         7.51314801e-04,  6.83013455e-05,  6.20921323e-06],\n",
       "       [ 1.00000000e+00,  1.51515152e-01,  2.29568411e-02,\n",
       "         3.47830926e-03,  5.27016555e-04,  7.98509932e-05],\n",
       "       [ 1.00000000e+00,  2.12121212e-01,  4.49954086e-02,\n",
       "         9.54448062e-03,  2.02458680e-03,  4.29457806e-04],\n",
       "       [ 1.00000000e+00,  2.72727273e-01,  7.43801653e-02,\n",
       "         2.02854996e-02,  5.53240899e-03,  1.50883882e-03],\n",
       "       [ 1.00000000e+00,  3.33333333e-01,  1.11111111e-01,\n",
       "         3.70370370e-02,  1.23456790e-02,  4.11522634e-03],\n",
       "       [ 1.00000000e+00,  3.93939394e-01,  1.55188246e-01,\n",
       "         6.11347636e-02,  2.40833917e-02,  9.48739674e-03],\n",
       "       [ 1.00000000e+00,  4.54545455e-01,  2.06611570e-01,\n",
       "         9.39143501e-02,  4.26883410e-02,  1.94037913e-02],\n",
       "       [ 1.00000000e+00,  5.15151515e-01,  2.65381084e-01,\n",
       "         1.36711467e-01,  7.04271195e-02,  3.62806373e-02],\n",
       "       [ 1.00000000e+00,  5.75757576e-01,  3.31496786e-01,\n",
       "         1.90861786e-01,  1.09890119e-01,  6.32700686e-02],\n",
       "       [ 1.00000000e+00,  6.36363636e-01,  4.04958678e-01,\n",
       "         2.57700977e-01,  1.63991531e-01,  1.04358247e-01],\n",
       "       [ 1.00000000e+00,  6.96969697e-01,  4.85766758e-01,\n",
       "         3.38564710e-01,  2.35969344e-01,  1.64463482e-01],\n",
       "       [ 1.00000000e+00,  7.57575758e-01,  5.73921028e-01,\n",
       "         4.34788658e-01,  3.29385347e-01,  2.49534354e-01],\n",
       "       [ 1.00000000e+00,  8.18181818e-01,  6.69421488e-01,\n",
       "         5.47708490e-01,  4.48125128e-01,  3.66647832e-01],\n",
       "       [ 1.00000000e+00,  8.78787879e-01,  7.72268136e-01,\n",
       "         6.78659877e-01,  5.96398074e-01,  5.24107398e-01],\n",
       "       [ 1.00000000e+00,  9.39393939e-01,  8.82460973e-01,\n",
       "         8.28978490e-01,  7.78737370e-01,  7.31541165e-01],\n",
       "       [ 1.00000000e+00,  1.00000000e+00,  1.00000000e+00,\n",
       "         1.00000000e+00,  1.00000000e+00,  1.00000000e+00],\n",
       "       [ 1.00000000e+00,  1.06060606e+00,  1.12488522e+00,\n",
       "         1.19306008e+00,  1.26536675e+00,  1.34205564e+00],\n",
       "       [ 1.00000000e+00,  1.12121212e+00,  1.25711662e+00,\n",
       "         1.40949439e+00,  1.58034220e+00,  1.77189883e+00],\n",
       "       [ 1.00000000e+00,  1.18181818e+00,  1.39669421e+00,\n",
       "         1.65063862e+00,  1.95075473e+00,  2.30543741e+00],\n",
       "       [ 1.00000000e+00,  1.24242424e+00,  1.54361800e+00,\n",
       "         1.91782842e+00,  2.38275652e+00,  2.96039447e+00],\n",
       "       [ 1.00000000e+00,  1.30303030e+00,  1.69788797e+00,\n",
       "         2.21239948e+00,  2.88282356e+00,  3.75640646e+00],\n",
       "       [ 1.00000000e+00,  1.36363636e+00,  1.85950413e+00,\n",
       "         2.53568745e+00,  3.45775562e+00,  4.71512130e+00],\n",
       "       [ 1.00000000e+00,  1.42424242e+00,  2.02846648e+00,\n",
       "         2.88902802e+00,  4.11467627e+00,  5.86029651e+00],\n",
       "       [ 1.00000000e+00,  1.48484848e+00,  2.20477502e+00,\n",
       "         3.27375685e+00,  4.86103290e+00,  7.21789734e+00],\n",
       "       [ 1.00000000e+00,  1.54545455e+00,  2.38842975e+00,\n",
       "         3.69120962e+00,  5.70459668e+00,  8.81619487e+00],\n",
       "       [ 1.00000000e+00,  1.60606061e+00,  2.57943067e+00,\n",
       "         4.14272199e+00,  6.65346258e+00,  1.06858641e+01],\n",
       "       [ 1.00000000e+00,  1.66666667e+00,  2.77777778e+00,\n",
       "         4.62962963e+00,  7.71604938e+00,  1.28600823e+01],\n",
       "       [ 1.00000000e+00,  1.72727273e+00,  2.98347107e+00,\n",
       "         5.15326822e+00,  8.90109965e+00,  1.53746267e+01],\n",
       "       [ 1.00000000e+00,  1.78787879e+00,  3.19651056e+00,\n",
       "         5.71497343e+00,  1.02176798e+01,  1.82679729e+01],\n",
       "       [ 1.00000000e+00,  1.84848485e+00,  3.41689624e+00,\n",
       "         6.31608092e+00,  1.16751799e+01,  2.15813931e+01],\n",
       "       [ 1.00000000e+00,  1.90909091e+00,  3.64462810e+00,\n",
       "         6.95792637e+00,  1.32833140e+01,  2.53590540e+01],\n",
       "       [ 1.00000000e+00,  1.96969697e+00,  3.87970615e+00,\n",
       "         7.64184545e+00,  1.50521198e+01,  2.96481148e+01],\n",
       "       [ 1.00000000e+00,  2.03030303e+00,  4.12213039e+00,\n",
       "         8.36917383e+00,  1.69919590e+01,  3.44988258e+01],\n",
       "       [ 1.00000000e+00,  2.09090909e+00,  4.37190083e+00,\n",
       "         9.14124718e+00,  1.91135168e+01,  3.99646261e+01],\n",
       "       [ 1.00000000e+00,  2.15151515e+00,  4.62901745e+00,\n",
       "         9.95940117e+00,  2.14278025e+01,  4.61022418e+01],\n",
       "       [ 1.00000000e+00,  2.21212121e+00,  4.89348026e+00,\n",
       "         1.08249715e+01,  2.39461490e+01,  5.29717842e+01],\n",
       "       [ 1.00000000e+00,  2.27272727e+00,  5.16528926e+00,\n",
       "         1.17392938e+01,  2.66802131e+01,  6.06368480e+01],\n",
       "       [ 1.00000000e+00,  2.33333333e+00,  5.44444444e+00,\n",
       "         1.27037037e+01,  2.96419753e+01,  6.91646091e+01],\n",
       "       [ 1.00000000e+00,  2.39393939e+00,  5.73094582e+00,\n",
       "         1.37195370e+01,  3.28437400e+01,  7.86259231e+01],\n",
       "       [ 1.00000000e+00,  2.45454545e+00,  6.02479339e+00,\n",
       "         1.47881292e+01,  3.62981354e+01,  8.90954232e+01],\n",
       "       [ 1.00000000e+00,  2.51515152e+00,  6.32598714e+00,\n",
       "         1.59108162e+01,  4.00181133e+01,  1.00651618e+02],\n",
       "       [ 1.00000000e+00,  2.57575758e+00,  6.63452709e+00,\n",
       "         1.70889334e+01,  4.40169497e+01,  1.13376992e+02],\n",
       "       [ 1.00000000e+00,  2.63636364e+00,  6.95041322e+00,\n",
       "         1.83238167e+01,  4.83082440e+01,  1.27358098e+02],\n",
       "       [ 1.00000000e+00,  2.69696970e+00,  7.27364555e+00,\n",
       "         1.96168016e+01,  5.29059195e+01,  1.42685662e+02],\n",
       "       [ 1.00000000e+00,  2.75757576e+00,  7.60422406e+00,\n",
       "         2.09692239e+01,  5.78242235e+01,  1.59454677e+02],\n",
       "       [ 1.00000000e+00,  2.81818182e+00,  7.94214876e+00,\n",
       "         2.23824192e+01,  6.30777269e+01,  1.77764503e+02],\n",
       "       [ 1.00000000e+00,  2.87878788e+00,  8.28741965e+00,\n",
       "         2.38577232e+01,  6.86813245e+01,  1.97718964e+02],\n",
       "       [ 1.00000000e+00,  2.93939394e+00,  8.64003673e+00,\n",
       "         2.53964716e+01,  7.46502347e+01,  2.19426447e+02],\n",
       "       [ 1.00000000e+00,  3.00000000e+00,  9.00000000e+00,\n",
       "         2.70000000e+01,  8.10000000e+01,  2.43000000e+02]])"
      ]
     },
     "execution_count": 3,
     "metadata": {},
     "output_type": "execute_result"
    }
   ],
   "source": [
    "# Create design matrix\n",
    "X = np.column_stack([x ** i for i in range(6)]) \n",
    "X"
   ]
  },
  {
   "cell_type": "code",
   "execution_count": 4,
   "metadata": {},
   "outputs": [],
   "source": [
    "# Split data set in training and test data \n",
    "X_train, X_test, y_train, y_test = train_test_split(X, y, test_size=0.2)"
   ]
  },
  {
   "cell_type": "markdown",
   "metadata": {},
   "source": [
    "**b)**\n",
    "Write thereafter (using either **scikit-learn** or your matrix inversion code using for example **numpy**)\n",
    "and perform an ordinary least squares fitting and compute the mean squared error for the training data and the test data. These calculations should apply to a model given by a fifth-order polynomial."
   ]
  },
  {
   "cell_type": "code",
   "execution_count": 7,
   "metadata": {},
   "outputs": [
    {
     "name": "stdout",
     "output_type": "stream",
     "text": [
      "[[ 0.82609284]\n",
      " [ 0.24851518]\n",
      " [-0.02654659]\n",
      " [ 0.06973519]\n",
      " [-0.00190649]\n",
      " [-0.01079666]]\n"
     ]
    }
   ],
   "source": [
    "# Matrix inversion to find beta\n",
    "beta = np.linalg.inv(X_train.T.dot(X_train)).dot(X_train.T).dot(y_train)\n",
    "print(beta)\n",
    "\n",
    "# Make the prediction\n",
    "ytilde = X_train @ beta\n",
    "ypredict = X_test @ beta"
   ]
  },
  {
   "cell_type": "code",
   "execution_count": 8,
   "metadata": {},
   "outputs": [
    {
     "name": "stdout",
     "output_type": "stream",
     "text": [
      "Training mean squared error: 0.03\n",
      "Test mean squared error: 0.04\n"
     ]
    }
   ],
   "source": [
    "print(\"Training mean squared error: %.2f\" % mean_squared_error(y_train, ytilde))\n",
    "print(\"Test mean squared error: %.2f\" % mean_squared_error(y_test, ypredict))"
   ]
  },
  {
   "cell_type": "markdown",
   "metadata": {},
   "source": [
    "As expected, the training mean squared error is better than the test mean squared error."
   ]
  },
  {
   "cell_type": "markdown",
   "metadata": {},
   "source": [
    "**c)**\n",
    "Add now a model which allows you to make polynomials up to degree $15$.  Perform a standard OLS fitting of the training data and compute the MSE for the training and test data and plot both test and training data MSE as functions of the polynomial degree. Compare what you see with Figure 2.11 of Hastie et al. Comment your results. For which polynomial degree do you find an optimal MSE (smallest value)?"
   ]
  },
  {
   "cell_type": "code",
   "execution_count": 44,
   "metadata": {},
   "outputs": [],
   "source": [
    "n = 100\n",
    "maxdegree = 15\n",
    "x = np.linspace(-3, 3, n).reshape(-1, 1)\n",
    "y = np.exp(-x**2) + 1.5 * np.exp(-(x-2)**2)+ np.random.normal(0, 0.1, x.shape)"
   ]
  },
  {
   "cell_type": "code",
   "execution_count": 45,
   "metadata": {},
   "outputs": [],
   "source": [
    "train_mse = np.zeros(maxdegree)\n",
    "test_mse = np.zeros(maxdegree)\n",
    "poly_degree = np.zeros(maxdegree)"
   ]
  },
  {
   "cell_type": "code",
   "execution_count": 46,
   "metadata": {},
   "outputs": [],
   "source": [
    "x_train, x_test, y_train, y_test = train_test_split(x, y, test_size=0.2)\n",
    "scaler = StandardScaler()\n",
    "scaler.fit(x_train)\n",
    "x_train_scaled = scaler.transform(x_train)\n",
    "x_test_scaled = scaler.transform(x_test)"
   ]
  },
  {
   "cell_type": "code",
   "execution_count": 47,
   "metadata": {},
   "outputs": [],
   "source": [
    "for degree in range(maxdegree):\n",
    "    model = make_pipeline(PolynomialFeatures(degree = degree), LinearRegression(fit_intercept = False))\n",
    "    clf = model.fit(x_train_scaled, y_train)\n",
    "    y_fit = clf.predict(x_train_scaled)\n",
    "    y_pred = clf.predict(x_test_scaled)\n",
    "    poly_degree[degree] = degree\n",
    "    test_mse[degree] = np.mean((y_test-y_pred)**2)\n",
    "    train_mse[degree] = np.mean((y_train-y_fit)**2)"
   ]
  },
  {
   "cell_type": "code",
   "execution_count": 48,
   "metadata": {},
   "outputs": [
    {
     "data": {
      "image/png": "[encoded data removed]",
      "text/plain": [
       "<Figure size 800x400 with 1 Axes>"
      ]
     },
     "metadata": {},
     "output_type": "display_data"
    }
   ],
   "source": [
    "# Plotting MSE for training and test data\n",
    "plt.figure(figsize=(8, 4))\n",
    "plt.plot(poly_degree, train_mse, label='Train error')\n",
    "plt.plot(poly_degree, test_mse, label='Test error')\n",
    "plt.xlabel('Polynomial Degree')\n",
    "plt.ylabel('Mean Squared Error')\n",
    "plt.title('MSE for Training and Test Data')\n",
    "plt.legend()\n",
    "plt.show()"
   ]
  },
  {
   "cell_type": "markdown",
   "metadata": {},
   "source": [
    "The figure is not equal to the one in the book, but it is due to the fact that we are analyzing low polynomial degrees. If, for example you put maxdegree = 30, it is possible to see that for degrees near 30, the curve of train error start going up."
   ]
  },
  {
   "cell_type": "code",
   "execution_count": 58,
   "metadata": {},
   "outputs": [
    {
     "name": "stdout",
     "output_type": "stream",
     "text": [
      "Optimal MSE degree:\n",
      "9\n"
     ]
    }
   ],
   "source": [
    "print(\"Optimal MSE degree:\")\n",
    "print(test_mse.argmin()+1) # argmax +1 because indexes in Python start from 0 "
   ]
  },
  {
   "cell_type": "code",
   "execution_count": null,
   "metadata": {},
   "outputs": [],
   "source": []
  }
 ],
 "metadata": {
  "kernelspec": {
   "display_name": "Python 3",
   "language": "python",
   "name": "python3"
  },
  "language_info": {
   "codemirror_mode": {
    "name": "ipython",
    "version": 3
   },
   "file_extension": ".py",
   "mimetype": "text/x-python",
   "name": "python",
   "nbconvert_exporter": "python",
   "pygments_lexer": "ipython3",
   "version": "3.11.1"
  },
  "orig_nbformat": 4
 },
 "nbformat": 4,
 "nbformat_minor": 2
}
